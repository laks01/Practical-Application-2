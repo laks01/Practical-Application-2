{
 "cells": [
  {
   "cell_type": "code",
   "execution_count": 1,
   "id": "552109ad-0af9-4ed1-8204-451b2c6049d1",
   "metadata": {},
   "outputs": [],
   "source": [
    "# What drives the price of a car?"
   ]
  },
  {
   "cell_type": "markdown",
   "id": "d3c176f5-f474-4c85-85da-4892ed7eb5b4",
   "metadata": {},
   "source": [
    "**OVERVIEW**\n",
    "\n",
    "In this application, you will explore a dataset from kaggle. The original dataset contained information on 3 million used cars. The provided dataset contains information on 426K cars to ensure speed of processing.  Your goal is to understand what factors make a car more or less expensive.  As a result of your analysis, you should provide clear recommendations to your client -- a used car dealership -- as to what consumers value in a used car."
   ]
  },
  {
   "cell_type": "markdown",
   "id": "086b079f-612f-49bb-abd8-3cccb1921766",
   "metadata": {},
   "source": [
    "### CRISP-DM Framework\n",
    "\n",
    "<center>\n",
    "    <img src = ../images/crisp.png width = 50%/>\n",
    "</center>\n",
    "\n",
    "\n",
    "To frame the task, throughout our practical applications we will refer back to a standard process in industry for data projects called CRISP-DM.  This process provides a framework for working through a data problem.  Your first step in this application will be to read through a brief overview of CRISP-DM [here](https://mo-pcco.s3.us-east-1.amazonaws.com/BH-PCMLAI/module_11/readings_starter.zip).  After reading the overview, answer the questions below."
   ]
  },
  {
   "cell_type": "markdown",
   "id": "d3bf9398-f7b7-4a54-9fc2-b71f6ba54219",
   "metadata": {},
   "source": [
    "### Business Understanding\n",
    "\n",
    "From a business perspective, we are tasked with identifying key drivers for used car prices.  In the CRISP-DM overview, we are asked to convert this business framing to a data problem definition.  Using a few sentences, reframe the task as a data task with the appropriate technical vocabulary. "
   ]
  },
  {
   "cell_type": "code",
   "execution_count": 2,
   "id": "9009d750-a371-4a84-b1d9-cb1b886b3acc",
   "metadata": {},
   "outputs": [],
   "source": [
    "import pandas as pd\n",
    "import numpy as np\n",
    "# For plotting\n",
    "import matplotlib.pyplot as plt\n",
    "import seaborn as sns\n",
    "import plotly.express as px\n",
    "from matplotlib import rcParams\n",
    "\n"
   ]
  },
  {
   "cell_type": "code",
   "execution_count": 3,
   "id": "aa74b600-f7f6-4f3e-ab5e-d770e460997b",
   "metadata": {},
   "outputs": [
    {
     "name": "stdout",
     "output_type": "stream",
     "text": [
      "<class 'pandas.core.frame.DataFrame'>\n",
      "RangeIndex: 426880 entries, 0 to 426879\n",
      "Data columns (total 18 columns):\n",
      " #   Column        Non-Null Count   Dtype  \n",
      "---  ------        --------------   -----  \n",
      " 0   id            426880 non-null  int64  \n",
      " 1   region        426880 non-null  object \n",
      " 2   price         426880 non-null  int64  \n",
      " 3   year          425675 non-null  float64\n",
      " 4   manufacturer  409234 non-null  object \n",
      " 5   model         421603 non-null  object \n",
      " 6   condition     252776 non-null  object \n",
      " 7   cylinders     249202 non-null  object \n",
      " 8   fuel          423867 non-null  object \n",
      " 9   odometer      422480 non-null  float64\n",
      " 10  title_status  418638 non-null  object \n",
      " 11  transmission  424324 non-null  object \n",
      " 12  VIN           265838 non-null  object \n",
      " 13  drive         296313 non-null  object \n",
      " 14  size          120519 non-null  object \n",
      " 15  type          334022 non-null  object \n",
      " 16  paint_color   296677 non-null  object \n",
      " 17  state         426880 non-null  object \n",
      "dtypes: float64(2), int64(2), object(14)\n",
      "memory usage: 58.6+ MB\n"
     ]
    }
   ],
   "source": [
    "# Load the vehicles.csv file\n",
    "vehicles = pd.read_csv('s3://ml-ai-bucket/vehicles.csv')\n",
    "vehicles.info()"
   ]
  },
  {
   "cell_type": "code",
   "execution_count": 4,
   "id": "55387801-b5e4-4d49-9e51-47984956bbe5",
   "metadata": {},
   "outputs": [
    {
     "data": {
      "text/plain": [
       "(426880, 18)"
      ]
     },
     "execution_count": 4,
     "metadata": {},
     "output_type": "execute_result"
    }
   ],
   "source": [
    "vehicles.shape"
   ]
  },
  {
   "cell_type": "code",
   "execution_count": 4,
   "id": "98d755f0-3bd0-4f23-9f6c-518523a65674",
   "metadata": {},
   "outputs": [
    {
     "data": {
      "text/html": [
       "<div>\n",
       "<style scoped>\n",
       "    .dataframe tbody tr th:only-of-type {\n",
       "        vertical-align: middle;\n",
       "    }\n",
       "\n",
       "    .dataframe tbody tr th {\n",
       "        vertical-align: top;\n",
       "    }\n",
       "\n",
       "    .dataframe thead th {\n",
       "        text-align: right;\n",
       "    }\n",
       "</style>\n",
       "<table border=\"1\" class=\"dataframe\">\n",
       "  <thead>\n",
       "    <tr style=\"text-align: right;\">\n",
       "      <th></th>\n",
       "      <th>id</th>\n",
       "      <th>region</th>\n",
       "      <th>price</th>\n",
       "      <th>year</th>\n",
       "      <th>manufacturer</th>\n",
       "      <th>model</th>\n",
       "      <th>condition</th>\n",
       "      <th>cylinders</th>\n",
       "      <th>fuel</th>\n",
       "      <th>odometer</th>\n",
       "      <th>title_status</th>\n",
       "      <th>transmission</th>\n",
       "      <th>VIN</th>\n",
       "      <th>drive</th>\n",
       "      <th>size</th>\n",
       "      <th>type</th>\n",
       "      <th>paint_color</th>\n",
       "      <th>state</th>\n",
       "    </tr>\n",
       "  </thead>\n",
       "  <tbody>\n",
       "    <tr>\n",
       "      <th>191601</th>\n",
       "      <td>7302323321</td>\n",
       "      <td>western massachusetts</td>\n",
       "      <td>4995</td>\n",
       "      <td>2009.0</td>\n",
       "      <td>NaN</td>\n",
       "      <td>Scion xD</td>\n",
       "      <td>excellent</td>\n",
       "      <td>4 cylinders</td>\n",
       "      <td>gas</td>\n",
       "      <td>137200.0</td>\n",
       "      <td>clean</td>\n",
       "      <td>automatic</td>\n",
       "      <td>JTKKU10449JO37090</td>\n",
       "      <td>fwd</td>\n",
       "      <td>NaN</td>\n",
       "      <td>hatchback</td>\n",
       "      <td>red</td>\n",
       "      <td>ma</td>\n",
       "    </tr>\n",
       "    <tr>\n",
       "      <th>380675</th>\n",
       "      <td>7315109609</td>\n",
       "      <td>san antonio</td>\n",
       "      <td>14500</td>\n",
       "      <td>2001.0</td>\n",
       "      <td>chevrolet</td>\n",
       "      <td>corvette</td>\n",
       "      <td>excellent</td>\n",
       "      <td>8 cylinders</td>\n",
       "      <td>gas</td>\n",
       "      <td>150000.0</td>\n",
       "      <td>clean</td>\n",
       "      <td>automatic</td>\n",
       "      <td>NaN</td>\n",
       "      <td>NaN</td>\n",
       "      <td>compact</td>\n",
       "      <td>coupe</td>\n",
       "      <td>black</td>\n",
       "      <td>tx</td>\n",
       "    </tr>\n",
       "    <tr>\n",
       "      <th>158168</th>\n",
       "      <td>7308028932</td>\n",
       "      <td>des moines</td>\n",
       "      <td>6995</td>\n",
       "      <td>2011.0</td>\n",
       "      <td>chevrolet</td>\n",
       "      <td>cruze</td>\n",
       "      <td>excellent</td>\n",
       "      <td>4 cylinders</td>\n",
       "      <td>gas</td>\n",
       "      <td>134322.0</td>\n",
       "      <td>clean</td>\n",
       "      <td>automatic</td>\n",
       "      <td>1G1PH5S91B7140903</td>\n",
       "      <td>fwd</td>\n",
       "      <td>NaN</td>\n",
       "      <td>sedan</td>\n",
       "      <td>NaN</td>\n",
       "      <td>ia</td>\n",
       "    </tr>\n",
       "    <tr>\n",
       "      <th>233794</th>\n",
       "      <td>7310663442</td>\n",
       "      <td>charlotte</td>\n",
       "      <td>8800</td>\n",
       "      <td>2013.0</td>\n",
       "      <td>ford</td>\n",
       "      <td>f150</td>\n",
       "      <td>excellent</td>\n",
       "      <td>6 cylinders</td>\n",
       "      <td>gas</td>\n",
       "      <td>171112.0</td>\n",
       "      <td>clean</td>\n",
       "      <td>automatic</td>\n",
       "      <td>1FTMF1CM4DKE66870</td>\n",
       "      <td>rwd</td>\n",
       "      <td>full-size</td>\n",
       "      <td>pickup</td>\n",
       "      <td>white</td>\n",
       "      <td>nc</td>\n",
       "    </tr>\n",
       "    <tr>\n",
       "      <th>228385</th>\n",
       "      <td>7302578314</td>\n",
       "      <td>kalispell</td>\n",
       "      <td>40998</td>\n",
       "      <td>2020.0</td>\n",
       "      <td>toyota</td>\n",
       "      <td>tacoma</td>\n",
       "      <td>NaN</td>\n",
       "      <td>6 cylinders</td>\n",
       "      <td>gas</td>\n",
       "      <td>4208.0</td>\n",
       "      <td>clean</td>\n",
       "      <td>automatic</td>\n",
       "      <td>3TMAZ5CNXLM136541</td>\n",
       "      <td>rwd</td>\n",
       "      <td>NaN</td>\n",
       "      <td>truck</td>\n",
       "      <td>NaN</td>\n",
       "      <td>mt</td>\n",
       "    </tr>\n",
       "    <tr>\n",
       "      <th>357998</th>\n",
       "      <td>7307108019</td>\n",
       "      <td>memphis</td>\n",
       "      <td>6687</td>\n",
       "      <td>2010.0</td>\n",
       "      <td>ford</td>\n",
       "      <td>escape</td>\n",
       "      <td>NaN</td>\n",
       "      <td>6 cylinders</td>\n",
       "      <td>gas</td>\n",
       "      <td>165303.0</td>\n",
       "      <td>clean</td>\n",
       "      <td>automatic</td>\n",
       "      <td>NaN</td>\n",
       "      <td>fwd</td>\n",
       "      <td>compact</td>\n",
       "      <td>SUV</td>\n",
       "      <td>silver</td>\n",
       "      <td>tn</td>\n",
       "    </tr>\n",
       "    <tr>\n",
       "      <th>125</th>\n",
       "      <td>7306095627</td>\n",
       "      <td>auburn</td>\n",
       "      <td>33590</td>\n",
       "      <td>2019.0</td>\n",
       "      <td>volvo</td>\n",
       "      <td>s60 t6 r-design sedan 4d</td>\n",
       "      <td>good</td>\n",
       "      <td>NaN</td>\n",
       "      <td>gas</td>\n",
       "      <td>10742.0</td>\n",
       "      <td>clean</td>\n",
       "      <td>other</td>\n",
       "      <td>7JRA22TM6KG005594</td>\n",
       "      <td>NaN</td>\n",
       "      <td>NaN</td>\n",
       "      <td>sedan</td>\n",
       "      <td>silver</td>\n",
       "      <td>al</td>\n",
       "    </tr>\n",
       "    <tr>\n",
       "      <th>131877</th>\n",
       "      <td>7314939875</td>\n",
       "      <td>boise</td>\n",
       "      <td>32988</td>\n",
       "      <td>2018.0</td>\n",
       "      <td>chevrolet</td>\n",
       "      <td>silverado 1500</td>\n",
       "      <td>NaN</td>\n",
       "      <td>NaN</td>\n",
       "      <td>gas</td>\n",
       "      <td>101835.0</td>\n",
       "      <td>clean</td>\n",
       "      <td>automatic</td>\n",
       "      <td>1GCVKREC8JZ114879</td>\n",
       "      <td>4wd</td>\n",
       "      <td>NaN</td>\n",
       "      <td>NaN</td>\n",
       "      <td>black</td>\n",
       "      <td>id</td>\n",
       "    </tr>\n",
       "    <tr>\n",
       "      <th>358196</th>\n",
       "      <td>7305197740</td>\n",
       "      <td>memphis</td>\n",
       "      <td>26590</td>\n",
       "      <td>2017.0</td>\n",
       "      <td>infiniti</td>\n",
       "      <td>q70 3.7 sedan 4d</td>\n",
       "      <td>good</td>\n",
       "      <td>NaN</td>\n",
       "      <td>other</td>\n",
       "      <td>34159.0</td>\n",
       "      <td>clean</td>\n",
       "      <td>automatic</td>\n",
       "      <td>JN1BY1AR5HM770805</td>\n",
       "      <td>NaN</td>\n",
       "      <td>NaN</td>\n",
       "      <td>sedan</td>\n",
       "      <td>NaN</td>\n",
       "      <td>tn</td>\n",
       "    </tr>\n",
       "    <tr>\n",
       "      <th>417572</th>\n",
       "      <td>7309626642</td>\n",
       "      <td>green bay</td>\n",
       "      <td>3495</td>\n",
       "      <td>2001.0</td>\n",
       "      <td>ram</td>\n",
       "      <td>1500</td>\n",
       "      <td>excellent</td>\n",
       "      <td>8 cylinders</td>\n",
       "      <td>gas</td>\n",
       "      <td>151169.0</td>\n",
       "      <td>clean</td>\n",
       "      <td>automatic</td>\n",
       "      <td>1B7HC13Y01J245538</td>\n",
       "      <td>rwd</td>\n",
       "      <td>full-size</td>\n",
       "      <td>truck</td>\n",
       "      <td>brown</td>\n",
       "      <td>wi</td>\n",
       "    </tr>\n",
       "  </tbody>\n",
       "</table>\n",
       "</div>"
      ],
      "text/plain": [
       "                id                 region  price    year manufacturer  \\\n",
       "191601  7302323321  western massachusetts   4995  2009.0          NaN   \n",
       "380675  7315109609            san antonio  14500  2001.0    chevrolet   \n",
       "158168  7308028932             des moines   6995  2011.0    chevrolet   \n",
       "233794  7310663442              charlotte   8800  2013.0         ford   \n",
       "228385  7302578314              kalispell  40998  2020.0       toyota   \n",
       "357998  7307108019                memphis   6687  2010.0         ford   \n",
       "125     7306095627                 auburn  33590  2019.0        volvo   \n",
       "131877  7314939875                  boise  32988  2018.0    chevrolet   \n",
       "358196  7305197740                memphis  26590  2017.0     infiniti   \n",
       "417572  7309626642              green bay   3495  2001.0          ram   \n",
       "\n",
       "                           model  condition    cylinders   fuel  odometer  \\\n",
       "191601                  Scion xD  excellent  4 cylinders    gas  137200.0   \n",
       "380675                  corvette  excellent  8 cylinders    gas  150000.0   \n",
       "158168                     cruze  excellent  4 cylinders    gas  134322.0   \n",
       "233794                      f150  excellent  6 cylinders    gas  171112.0   \n",
       "228385                    tacoma        NaN  6 cylinders    gas    4208.0   \n",
       "357998                    escape        NaN  6 cylinders    gas  165303.0   \n",
       "125     s60 t6 r-design sedan 4d       good          NaN    gas   10742.0   \n",
       "131877            silverado 1500        NaN          NaN    gas  101835.0   \n",
       "358196          q70 3.7 sedan 4d       good          NaN  other   34159.0   \n",
       "417572                      1500  excellent  8 cylinders    gas  151169.0   \n",
       "\n",
       "       title_status transmission                VIN drive       size  \\\n",
       "191601        clean    automatic  JTKKU10449JO37090   fwd        NaN   \n",
       "380675        clean    automatic                NaN   NaN    compact   \n",
       "158168        clean    automatic  1G1PH5S91B7140903   fwd        NaN   \n",
       "233794        clean    automatic  1FTMF1CM4DKE66870   rwd  full-size   \n",
       "228385        clean    automatic  3TMAZ5CNXLM136541   rwd        NaN   \n",
       "357998        clean    automatic                NaN   fwd    compact   \n",
       "125           clean        other  7JRA22TM6KG005594   NaN        NaN   \n",
       "131877        clean    automatic  1GCVKREC8JZ114879   4wd        NaN   \n",
       "358196        clean    automatic  JN1BY1AR5HM770805   NaN        NaN   \n",
       "417572        clean    automatic  1B7HC13Y01J245538   rwd  full-size   \n",
       "\n",
       "             type paint_color state  \n",
       "191601  hatchback         red    ma  \n",
       "380675      coupe       black    tx  \n",
       "158168      sedan         NaN    ia  \n",
       "233794     pickup       white    nc  \n",
       "228385      truck         NaN    mt  \n",
       "357998        SUV      silver    tn  \n",
       "125         sedan      silver    al  \n",
       "131877        NaN       black    id  \n",
       "358196      sedan         NaN    tn  \n",
       "417572      truck       brown    wi  "
      ]
     },
     "execution_count": 4,
     "metadata": {},
     "output_type": "execute_result"
    }
   ],
   "source": [
    "vehicles.sample(10)"
   ]
  },
  {
   "cell_type": "code",
   "execution_count": 5,
   "id": "9dd85402-939f-4c46-98ab-193cdcd22d48",
   "metadata": {},
   "outputs": [
    {
     "data": {
      "text/html": [
       "<div>\n",
       "<style scoped>\n",
       "    .dataframe tbody tr th:only-of-type {\n",
       "        vertical-align: middle;\n",
       "    }\n",
       "\n",
       "    .dataframe tbody tr th {\n",
       "        vertical-align: top;\n",
       "    }\n",
       "\n",
       "    .dataframe thead th {\n",
       "        text-align: right;\n",
       "    }\n",
       "</style>\n",
       "<table border=\"1\" class=\"dataframe\">\n",
       "  <thead>\n",
       "    <tr style=\"text-align: right;\">\n",
       "      <th></th>\n",
       "      <th>id</th>\n",
       "      <th>price</th>\n",
       "      <th>year</th>\n",
       "      <th>odometer</th>\n",
       "    </tr>\n",
       "  </thead>\n",
       "  <tbody>\n",
       "    <tr>\n",
       "      <th>count</th>\n",
       "      <td>4.268800e+05</td>\n",
       "      <td>4.268800e+05</td>\n",
       "      <td>425675.000000</td>\n",
       "      <td>4.224800e+05</td>\n",
       "    </tr>\n",
       "    <tr>\n",
       "      <th>mean</th>\n",
       "      <td>7.311487e+09</td>\n",
       "      <td>7.519903e+04</td>\n",
       "      <td>2011.235191</td>\n",
       "      <td>9.804333e+04</td>\n",
       "    </tr>\n",
       "    <tr>\n",
       "      <th>std</th>\n",
       "      <td>4.473170e+06</td>\n",
       "      <td>1.218228e+07</td>\n",
       "      <td>9.452120</td>\n",
       "      <td>2.138815e+05</td>\n",
       "    </tr>\n",
       "    <tr>\n",
       "      <th>min</th>\n",
       "      <td>7.207408e+09</td>\n",
       "      <td>0.000000e+00</td>\n",
       "      <td>1900.000000</td>\n",
       "      <td>0.000000e+00</td>\n",
       "    </tr>\n",
       "    <tr>\n",
       "      <th>25%</th>\n",
       "      <td>7.308143e+09</td>\n",
       "      <td>5.900000e+03</td>\n",
       "      <td>2008.000000</td>\n",
       "      <td>3.770400e+04</td>\n",
       "    </tr>\n",
       "    <tr>\n",
       "      <th>50%</th>\n",
       "      <td>7.312621e+09</td>\n",
       "      <td>1.395000e+04</td>\n",
       "      <td>2013.000000</td>\n",
       "      <td>8.554800e+04</td>\n",
       "    </tr>\n",
       "    <tr>\n",
       "      <th>75%</th>\n",
       "      <td>7.315254e+09</td>\n",
       "      <td>2.648575e+04</td>\n",
       "      <td>2017.000000</td>\n",
       "      <td>1.335425e+05</td>\n",
       "    </tr>\n",
       "    <tr>\n",
       "      <th>max</th>\n",
       "      <td>7.317101e+09</td>\n",
       "      <td>3.736929e+09</td>\n",
       "      <td>2022.000000</td>\n",
       "      <td>1.000000e+07</td>\n",
       "    </tr>\n",
       "  </tbody>\n",
       "</table>\n",
       "</div>"
      ],
      "text/plain": [
       "                 id         price           year      odometer\n",
       "count  4.268800e+05  4.268800e+05  425675.000000  4.224800e+05\n",
       "mean   7.311487e+09  7.519903e+04    2011.235191  9.804333e+04\n",
       "std    4.473170e+06  1.218228e+07       9.452120  2.138815e+05\n",
       "min    7.207408e+09  0.000000e+00    1900.000000  0.000000e+00\n",
       "25%    7.308143e+09  5.900000e+03    2008.000000  3.770400e+04\n",
       "50%    7.312621e+09  1.395000e+04    2013.000000  8.554800e+04\n",
       "75%    7.315254e+09  2.648575e+04    2017.000000  1.335425e+05\n",
       "max    7.317101e+09  3.736929e+09    2022.000000  1.000000e+07"
      ]
     },
     "execution_count": 5,
     "metadata": {},
     "output_type": "execute_result"
    }
   ],
   "source": [
    "vehicles.describe()"
   ]
  },
  {
   "cell_type": "markdown",
   "id": "a5c6e3ee-940f-4ee5-b082-82e26f5569e1",
   "metadata": {},
   "source": [
    "### Data Understanding\n",
    "\n",
    "After considering the business understanding, we want to get familiar with our data.  Write down some steps that you would take to get to know the dataset and identify any quality issues within.  Take time to get to know the dataset and explore what information it contains and how this could be used to inform your business understanding."
   ]
  },
  {
   "cell_type": "code",
   "execution_count": 6,
   "id": "76ccf899-2ec4-4299-b5c3-ce4095b3945f",
   "metadata": {},
   "outputs": [
    {
     "data": {
      "text/plain": [
       "id                   0\n",
       "region               0\n",
       "price                0\n",
       "year              1205\n",
       "manufacturer     17646\n",
       "model             5277\n",
       "condition       174104\n",
       "cylinders       177678\n",
       "fuel              3013\n",
       "odometer          4400\n",
       "title_status      8242\n",
       "transmission      2556\n",
       "VIN             161042\n",
       "drive           130567\n",
       "size            306361\n",
       "type             92858\n",
       "paint_color     130203\n",
       "state                0\n",
       "dtype: int64"
      ]
     },
     "execution_count": 6,
     "metadata": {},
     "output_type": "execute_result"
    }
   ],
   "source": [
    "vehicles.isnull().sum()"
   ]
  },
  {
   "cell_type": "code",
   "execution_count": 7,
   "id": "961d0575-52fd-4baf-8d26-53ea2e43e791",
   "metadata": {},
   "outputs": [
    {
     "data": {
      "image/png": "[encoded data removed]",
      "text/plain": [
       "<Figure size 432x288 with 1 Axes>"
      ]
     },
     "metadata": {
      "needs_background": "light"
     },
     "output_type": "display_data"
    }
   ],
   "source": [
    "vehicles[\"price\"].hist(bins=20)\n",
    "plt.show()"
   ]
  },
  {
   "cell_type": "code",
   "execution_count": 8,
   "id": "affcf622-359d-4266-b9c3-96579bd862ff",
   "metadata": {},
   "outputs": [
    {
     "data": {
      "text/plain": [
       "<AxesSubplot:title={'center':'Average price by Manufacturer'}, xlabel='manufacturer'>"
      ]
     },
     "execution_count": 8,
     "metadata": {},
     "output_type": "execute_result"
    },
    {
     "data": {
      "image/png": "[encoded data removed]",
      "text/plain": [
       "<Figure size 1080x1080 with 1 Axes>"
      ]
     },
     "metadata": {
      "needs_background": "light"
     },
     "output_type": "display_data"
    }
   ],
   "source": [
    "avg_price_by_manufacturer = vehicles.groupby(\"manufacturer\")[\"price\"].mean()\n",
    "avg_price_by_manufacturer.plot(kind=\"bar\", title=\"Average price by Manufacturer\", figsize=(15,15))"
   ]
  },
  {
   "cell_type": "code",
   "execution_count": 5,
   "id": "3d1d5433-75d6-4d10-a732-b137da7360c7",
   "metadata": {},
   "outputs": [
    {
     "data": {
      "text/plain": [
       "<AxesSubplot:title={'center':'Average price by Cylinders'}, xlabel='cylinders'>"
      ]
     },
     "execution_count": 5,
     "metadata": {},
     "output_type": "execute_result"
    },
    {
     "data": {
      "image/png": "[encoded data removed]",
      "text/plain": [
       "<Figure size 720x720 with 1 Axes>"
      ]
     },
     "metadata": {
      "needs_background": "light"
     },
     "output_type": "display_data"
    }
   ],
   "source": [
    "# Average price by Cylinders\n",
    "avg_price_by_manufacturer = vehicles.groupby(\"cylinders\")[\"price\"].mean()\n",
    "avg_price_by_manufacturer.plot(kind=\"bar\", title=\"Average price by Cylinders\", figsize=(10,10))"
   ]
  },
  {
   "cell_type": "code",
   "execution_count": 10,
   "id": "76d39cc6-307f-4f3e-bced-cda38ff97084",
   "metadata": {},
   "outputs": [
    {
     "name": "stdout",
     "output_type": "stream",
     "text": [
      "<class 'pandas.core.frame.DataFrame'>\n",
      "RangeIndex: 426880 entries, 0 to 426879\n",
      "Data columns (total 18 columns):\n",
      " #   Column        Non-Null Count   Dtype  \n",
      "---  ------        --------------   -----  \n",
      " 0   id            426880 non-null  int64  \n",
      " 1   region        426880 non-null  object \n",
      " 2   price         426880 non-null  int64  \n",
      " 3   year          425675 non-null  float64\n",
      " 4   manufacturer  409234 non-null  object \n",
      " 5   model         421603 non-null  object \n",
      " 6   condition     252776 non-null  object \n",
      " 7   cylinders     249202 non-null  object \n",
      " 8   fuel          423867 non-null  object \n",
      " 9   odometer      422480 non-null  float64\n",
      " 10  title_status  418638 non-null  object \n",
      " 11  transmission  424324 non-null  object \n",
      " 12  VIN           265838 non-null  object \n",
      " 13  drive         296313 non-null  object \n",
      " 14  size          120519 non-null  object \n",
      " 15  type          334022 non-null  object \n",
      " 16  paint_color   296677 non-null  object \n",
      " 17  state         426880 non-null  object \n",
      "dtypes: float64(2), int64(2), object(14)\n",
      "memory usage: 58.6+ MB\n"
     ]
    }
   ],
   "source": [
    "vehicles.info()"
   ]
  },
  {
   "cell_type": "code",
   "execution_count": 11,
   "id": "726f9902-7844-4a25-b6cc-442935a9ed77",
   "metadata": {},
   "outputs": [
    {
     "name": "stdout",
     "output_type": "stream",
     "text": [
      "Region:  404\n",
      "Manufacturer:  42\n",
      "Model:  29649\n",
      "Condition:  6\n",
      "cylinders:  8\n",
      "Fuel:  5\n",
      "Title Status: 6\n",
      "Drive: 3\n",
      "Size: 4\n",
      "Type: 13\n",
      "Paint Color: 12\n"
     ]
    }
   ],
   "source": [
    "# Printing the unique values for the columns\n",
    "print(f'Region: ',vehicles[\"region\"].nunique())\n",
    "print(f'Manufacturer: ', vehicles[\"manufacturer\"].nunique())\n",
    "print(f'Model: ', vehicles[\"model\"].nunique())\n",
    "print(f'Condition: ', vehicles[\"condition\"].nunique())\n",
    "print(f'cylinders: ', vehicles[\"cylinders\"].nunique())\n",
    "print(f'Fuel: ', vehicles[\"fuel\"].nunique())\n",
    "print(f'Title Status:', vehicles[\"title_status\"].nunique())\n",
    "print(f'Drive:',vehicles[\"drive\"].nunique())\n",
    "print(f'Size:', vehicles[\"size\"].nunique())\n",
    "print(f'Type:',vehicles[\"type\"].nunique())\n",
    "print(f'Paint Color:',vehicles[\"paint_color\"].nunique())"
   ]
  },
  {
   "cell_type": "code",
   "execution_count": 12,
   "id": "05cfc616-6bef-4079-8435-b2dbcd20848d",
   "metadata": {},
   "outputs": [
    {
     "name": "stdout",
     "output_type": "stream",
     "text": [
      "Region:  0    columbus\n",
      "dtype: object\n",
      "Manufacturer:  0    ford\n",
      "dtype: object\n",
      "Model:  0    f-150\n",
      "dtype: object\n",
      "Condition:  0    good\n",
      "dtype: object\n",
      "cylinders:  0    6 cylinders\n",
      "dtype: object\n",
      "Fuel:  0    gas\n",
      "dtype: object\n",
      "Title Status: 0    clean\n",
      "dtype: object\n",
      "Drive: 0    4wd\n",
      "dtype: object\n",
      "Size: 0    full-size\n",
      "dtype: object\n",
      "Type: 0    sedan\n",
      "dtype: object\n",
      "Paint Color: 0    white\n",
      "dtype: object\n"
     ]
    }
   ],
   "source": [
    "# Print the mode values\n",
    "print(f'Region: ',vehicles[\"region\"].mode())\n",
    "print(f'Manufacturer: ', vehicles[\"manufacturer\"].mode())\n",
    "print(f'Model: ', vehicles[\"model\"].mode())\n",
    "print(f'Condition: ', vehicles[\"condition\"].mode())\n",
    "print(f'cylinders: ', vehicles[\"cylinders\"].mode())\n",
    "print(f'Fuel: ', vehicles[\"fuel\"].mode())\n",
    "print(f'Title Status:', vehicles[\"title_status\"].mode())\n",
    "print(f'Drive:',vehicles[\"drive\"].mode())\n",
    "print(f'Size:', vehicles[\"size\"].mode())\n",
    "print(f'Type:',vehicles[\"type\"].mode())\n",
    "print(f'Paint Color:',vehicles[\"paint_color\"].mode())"
   ]
  },
  {
   "cell_type": "code",
   "execution_count": null,
   "id": "850cdd02-a747-43df-b633-4bad5ed67caf",
   "metadata": {},
   "outputs": [],
   "source": [
    "vehicles.to_csv('s3://ml-ai-bucket/vehicles_cleaned.csv')"
   ]
  }
 ],
 "metadata": {
  "kernelspec": {
   "display_name": "Python 3",
   "language": "python",
   "name": "python3"
  },
  "language_info": {
   "codemirror_mode": {
    "name": "ipython",
    "version": 3
   },
   "file_extension": ".py",
   "mimetype": "text/x-python",
   "name": "python",
   "nbconvert_exporter": "python",
   "pygments_lexer": "ipython3",
   "version": "3.8.10"
  }
 },
 "nbformat": 4,
 "nbformat_minor": 5
}
