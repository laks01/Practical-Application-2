{
 "cells": [
  {
   "cell_type": "code",
   "execution_count": null,
   "id": "552109ad-0af9-4ed1-8204-451b2c6049d1",
   "metadata": {},
   "outputs": [],
   "source": [
    "# What drives the price of a car?"
   ]
  },
  {
   "cell_type": "markdown",
   "id": "d3c176f5-f474-4c85-85da-4892ed7eb5b4",
   "metadata": {},
   "source": [
    "**OVERVIEW**\n",
    "\n",
    "In this application, you will explore a dataset from kaggle. The original dataset contained information on 3 million used cars. The provided dataset contains information on 426K cars to ensure speed of processing.  Your goal is to understand what factors make a car more or less expensive.  As a result of your analysis, you should provide clear recommendations to your client -- a used car dealership -- as to what consumers value in a used car."
   ]
  },
  {
   "cell_type": "markdown",
   "id": "086b079f-612f-49bb-abd8-3cccb1921766",
   "metadata": {},
   "source": [
    "### CRISP-DM Framework\n",
    "\n",
    "<center>\n",
    "    <img src = ../images/crisp.png width = 50%/>\n",
    "</center>\n",
    "\n",
    "\n",
    "To frame the task, throughout our practical applications we will refer back to a standard process in industry for data projects called CRISP-DM.  This process provides a framework for working through a data problem.  Your first step in this application will be to read through a brief overview of CRISP-DM [here](https://mo-pcco.s3.us-east-1.amazonaws.com/BH-PCMLAI/module_11/readings_starter.zip).  After reading the overview, answer the questions below."
   ]
  },
  {
   "cell_type": "markdown",
   "id": "d3bf9398-f7b7-4a54-9fc2-b71f6ba54219",
   "metadata": {},
   "source": [
    "### Business Understanding\n",
    "\n",
    "From a business perspective, we are tasked with identifying key drivers for used car prices.  In the CRISP-DM overview, we are asked to convert this business framing to a data problem definition.  Using a few sentences, reframe the task as a data task with the appropriate technical vocabulary. "
   ]
  },
  {
   "cell_type": "code",
   "execution_count": null,
   "id": "9009d750-a371-4a84-b1d9-cb1b886b3acc",
   "metadata": {},
   "outputs": [],
   "source": [
    "import pandas as pd\n",
    "import numpy as np\n",
    "# For plotting\n",
    "import matplotlib.pyplot as plt\n",
    "import seaborn as sns\n",
    "import plotly.express as px\n",
    "from matplotlib import rcParams\n",
    "\n"
   ]
  },
  {
   "cell_type": "code",
   "execution_count": null,
   "id": "aa74b600-f7f6-4f3e-ab5e-d770e460997b",
   "metadata": {},
   "outputs": [],
   "source": [
    "# Load the vehicles.csv file\n",
    "vehicles = pd.read_csv('s3://ml-ai-bucket/vehicles.csv')\n",
    "vehicles.info()"
   ]
  },
  {
   "cell_type": "code",
   "execution_count": null,
   "id": "98d755f0-3bd0-4f23-9f6c-518523a65674",
   "metadata": {},
   "outputs": [],
   "source": [
    "vehicles.sample(10)"
   ]
  },
  {
   "cell_type": "code",
   "execution_count": null,
   "id": "9dd85402-939f-4c46-98ab-193cdcd22d48",
   "metadata": {},
   "outputs": [],
   "source": [
    "vehicles.describe()"
   ]
  },
  {
   "cell_type": "markdown",
   "id": "a5c6e3ee-940f-4ee5-b082-82e26f5569e1",
   "metadata": {},
   "source": [
    "### Data Understanding\n",
    "\n",
    "After considering the business understanding, we want to get familiar with our data.  Write down some steps that you would take to get to know the dataset and identify any quality issues within.  Take time to get to know the dataset and explore what information it contains and how this could be used to inform your business understanding."
   ]
  },
  {
   "cell_type": "code",
   "execution_count": null,
   "id": "76ccf899-2ec4-4299-b5c3-ce4095b3945f",
   "metadata": {},
   "outputs": [],
   "source": [
    "vehicles.isnull().sum()"
   ]
  },
  {
   "cell_type": "code",
   "execution_count": null,
   "id": "961d0575-52fd-4baf-8d26-53ea2e43e791",
   "metadata": {},
   "outputs": [],
   "source": [
    "vehicles[\"price\"].hist(bins=20)\n",
    "plt.show()"
   ]
  },
  {
   "cell_type": "code",
   "execution_count": null,
   "id": "affcf622-359d-4266-b9c3-96579bd862ff",
   "metadata": {},
   "outputs": [],
   "source": [
    "avg_price_by_manufacturer = vehicles.groupby(\"manufacturer\")[\"price\"].mean()\n",
    "avg_price_by_manufacturer.plot(kind=\"bar\", title=\"Average price by Manufacturer\", figsize=(15,15))"
   ]
  },
  {
   "cell_type": "code",
   "execution_count": null,
   "id": "3d1d5433-75d6-4d10-a732-b137da7360c7",
   "metadata": {},
   "outputs": [],
   "source": [
    "# Average price by Cylinders\n",
    "avg_price_by_manufacturer = vehicles.groupby(\"cylinders\")[\"price\"].mean()\n",
    "avg_price_by_manufacturer.plot(kind=\"bar\", title=\"Average price by Cylinders\", figsize=(20,20))"
   ]
  },
  {
   "cell_type": "code",
   "execution_count": null,
   "id": "76d39cc6-307f-4f3e-bced-cda38ff97084",
   "metadata": {},
   "outputs": [],
   "source": [
    "vehicles.info()"
   ]
  },
  {
   "cell_type": "code",
   "execution_count": null,
   "id": "726f9902-7844-4a25-b6cc-442935a9ed77",
   "metadata": {},
   "outputs": [],
   "source": [
    "# Printing the unique values for the columns\n",
    "print(f'Region: ',vehicles[\"region\"].nunique())\n",
    "print(f'Manufacturer: ', vehicles[\"manufacturer\"].nunique())\n",
    "print(f'Model: ', vehicles[\"model\"].nunique())\n",
    "print(f'Condition: ', vehicles[\"condition\"].nunique())\n",
    "print(f'cylinders: ', vehicles[\"cylinders\"].nunique())\n",
    "print(f'Fuel: ', vehicles[\"fuel\"].nunique())\n",
    "print(f'Title Status:', vehicles[\"title_status\"].nunique())\n",
    "print(f'Drive:',vehicles[\"drive\"].nunique())\n",
    "print(f'Size:', vehicles[\"size\"].nunique())\n",
    "print(f'Type:',vehicles[\"type\"].nunique())\n",
    "print(f'Paint Color:',vehicles[\"paint_color\"].nunique())"
   ]
  },
  {
   "cell_type": "code",
   "execution_count": null,
   "id": "05cfc616-6bef-4079-8435-b2dbcd20848d",
   "metadata": {},
   "outputs": [],
   "source": [
    "# Print the mode values\n",
    "print(f'Region: ',vehicles[\"region\"].mode())\n",
    "print(f'Manufacturer: ', vehicles[\"manufacturer\"].mode())\n",
    "print(f'Model: ', vehicles[\"model\"].mode())\n",
    "print(f'Condition: ', vehicles[\"condition\"].mode())\n",
    "print(f'cylinders: ', vehicles[\"cylinders\"].mode())\n",
    "print(f'Fuel: ', vehicles[\"fuel\"].mode())\n",
    "print(f'Title Status:', vehicles[\"title_status\"].mode())\n",
    "print(f'Drive:',vehicles[\"drive\"].mode())\n",
    "print(f'Size:', vehicles[\"size\"].mode())\n",
    "print(f'Type:',vehicles[\"type\"].mode())\n",
    "print(f'Paint Color:',vehicles[\"paint_color\"].mode())"
   ]
  },
  {
   "cell_type": "code",
   "execution_count": null,
   "id": "850cdd02-a747-43df-b633-4bad5ed67caf",
   "metadata": {},
   "outputs": [],
   "source": [
    "vehicles.to_csv('s3://ml-ai-bucket/vehicles_cleaned.csv')"
   ]
  }
 ],
 "metadata": {
  "kernelspec": {
   "display_name": "Python 3",
   "language": "python",
   "name": "python3"
  },
  "language_info": {
   "codemirror_mode": {
    "name": "ipython",
    "version": 3
   },
   "file_extension": ".py",
   "mimetype": "text/x-python",
   "name": "python",
   "nbconvert_exporter": "python",
   "pygments_lexer": "ipython3",
   "version": "3.8.10"
  }
 },
 "nbformat": 4,
 "nbformat_minor": 5
}
