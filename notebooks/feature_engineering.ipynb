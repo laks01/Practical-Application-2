{
 "cells": [
  {
   "cell_type": "code",
   "execution_count": null,
   "id": "2859c7e3-2ac1-41f0-ad39-b42e6de858f1",
   "metadata": {},
   "outputs": [],
   "source": [
    "import pandas as pd\n",
    "import numpy as np\n",
    "# For plotting\n",
    "import matplotlib.pyplot as plt\n",
    "import seaborn as sns\n",
    "import plotly.express as px\n",
    "from matplotlib import rcParams\n",
    "from sklearn.experimental import enable_iterative_imputer\n",
    "from sklearn.impute import IterativeImputer\n",
    "from sklearn.linear_model import BayesianRidge\n",
    "from sklearn import preprocessing\n",
    "from tqdm import tqdm\n",
    "\n",
    "# Libraries for preprossing \n",
    "from sklearn import preprocessing\n",
    "from sklearn.preprocessing import StandardScaler\n",
    "from sklearn.preprocessing import MinMaxScaler"
   ]
  },
  {
   "cell_type": "code",
   "execution_count": null,
   "id": "ec9ba532-2f93-46a5-bf8e-b90339aee0c6",
   "metadata": {},
   "outputs": [],
   "source": [
    "vehicles = pd.read_csv('s3://ml-ai-bucket/vehicles_processed.csv')\n",
    "vehicles.sample(10)"
   ]
  },
  {
   "cell_type": "code",
   "execution_count": null,
   "id": "48ccb6de-ffb7-471b-8e60-778d46e60772",
   "metadata": {},
   "outputs": [],
   "source": [
    "vehicles.head(10)"
   ]
  },
  {
   "cell_type": "code",
   "execution_count": null,
   "id": "b1570033-1b35-4e4a-9e42-67ea45c6d9f5",
   "metadata": {},
   "outputs": [],
   "source": [
    "features_list = ['year', 'cylinders', 'drive', \"region\",\"manufacturer\", \"model\", \"fuel\",\"transmission\",\"type\",\n",
    "                 \"paint_color\",\"state\", \"condition\",\"title_status\",\"size\"]\n",
    "\n",
    "\n",
    "\n"
   ]
  },
  {
   "cell_type": "code",
   "execution_count": null,
   "id": "138669b1-54cf-4bfc-b27d-2ce9602cf739",
   "metadata": {},
   "outputs": [],
   "source": [
    "vehicles.corr()"
   ]
  },
  {
   "cell_type": "code",
   "execution_count": null,
   "id": "e4d1e214-ad1f-4a38-9009-c13062b5f92b",
   "metadata": {},
   "outputs": [],
   "source": [
    "fig, ax = plt.subplots(figsize=(15, 10))\n",
    "sns.heatmap(vehicles.corr(), annot=True, ax= ax)\n",
    "ax.set_title(\"Correlation bewtween features\")"
   ]
  },
  {
   "cell_type": "code",
   "execution_count": null,
   "id": "48cbb0e8-7f25-4670-bb3b-e53638d47506",
   "metadata": {},
   "outputs": [],
   "source": [
    "#Dropping some of the columns\n",
    "\n",
    "vehicles.drop(columns=[\"id\", \"state\"], inplace=True)"
   ]
  },
  {
   "cell_type": "code",
   "execution_count": null,
   "id": "96f5157a-09c4-4657-ab0d-cde03bda5cf9",
   "metadata": {},
   "outputs": [],
   "source": [
    "# normalizing pricing data in vehicles.\n",
    "price_mean = vehicles[\"price\"].mean()\n",
    "price_std = vehicles[\"price\"].std()\n",
    "vehicles[\"price\"] = (vehicles[\"price\"] - price_mean)/price_std\n",
    "\n",
    "# Scaling numerical data\n",
    "ss = StandardScaler()\n",
    "vehicles[\"odometer\"] = ss.fit_transform(np.array(vehicles[\"odometer\"]).reshape(-1,1))\n",
    "vehicles[\"year\"] = ss.fit_transform(np.array(vehicles[\"year\"]).reshape(-1,1))\n",
    "vehicles[\"manufacturer\"] = ss.fit_transform(np.array(vehicles[\"manufacturer\"]).reshape(-1,1))\n",
    "vehicles[\"condition\"] = ss.fit_transform(np.array(vehicles[\"condition\"]).reshape(-1,1))\n",
    "vehicles[\"cylinders\"] = ss.fit_transform(np.array(vehicles[\"cylinders\"]).reshape(-1,1))\n",
    "vehicles[\"fuel\"] = ss.fit_transform(np.array(vehicles[\"fuel\"]).reshape(-1,1))\n",
    "vehicles[\"title_status\"] = ss.fit_transform(np.array(vehicles[\"title_status\"]).reshape(-1,1))\n",
    "vehicles[\"transmission\"] = ss.fit_transform(np.array(vehicles[\"transmission\"]).reshape(-1,1))\n",
    "vehicles[\"drive\"] = ss.fit_transform(np.array(vehicles[\"drive\"]).reshape(-1,1))\n",
    "vehicles[\"size\"] = ss.fit_transform(np.array(vehicles[\"size\"]).reshape(-1,1))\n",
    "vehicles[\"region\"] = ss.fit_transform(np.array(vehicles[\"region\"]).reshape(-1,1))\n",
    "vehicles[\"type\"] = ss.fit_transform(np.array(vehicles[\"type\"]).reshape(-1,1))\n",
    "vehicles[\"paint_color\"] = ss.fit_transform(np.array(vehicles[\"paint_color\"]).reshape(-1,1))\n",
    "vehicles.describe()\n"
   ]
  },
  {
   "cell_type": "code",
   "execution_count": null,
   "id": "4696ed9e-7f90-4c9b-a21e-d733d85f7cd5",
   "metadata": {},
   "outputs": [],
   "source": []
  }
 ],
 "metadata": {
  "kernelspec": {
   "display_name": "Python 3",
   "language": "python",
   "name": "python3"
  },
  "language_info": {
   "codemirror_mode": {
    "name": "ipython",
    "version": 3
   },
   "file_extension": ".py",
   "mimetype": "text/x-python",
   "name": "python",
   "nbconvert_exporter": "python",
   "pygments_lexer": "ipython3",
   "version": "3.8.10"
  }
 },
 "nbformat": 4,
 "nbformat_minor": 5
}
