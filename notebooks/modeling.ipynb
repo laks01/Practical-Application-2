{
 "cells": [
  {
   "cell_type": "code",
   "execution_count": 18,
   "id": "1fbe6361-d4ab-40c4-8ff1-dd6f4b3a9d4e",
   "metadata": {},
   "outputs": [],
   "source": [
    "import pandas as pd\n",
    "import numpy as np\n",
    "# For plotting\n",
    "import matplotlib.pyplot as plt\n",
    "from sklearn.model_selection import train_test_split\n",
    "from sklearn.linear_model import LinearRegression, Ridge, Lasso\n",
    "from sklearn.metrics import mean_squared_error, mean_absolute_error\n",
    "from sklearn.pipeline import Pipeline\n",
    "from sklearn.feature_selection import SequentialFeatureSelector\n",
    "from sklearn.feature_selection import RFE\n",
    "from sklearn.ensemble import RandomForestRegressor\n",
    "from sklearn.preprocessing import StandardScaler"
   ]
  },
  {
   "cell_type": "code",
   "execution_count": 5,
   "id": "3ee20a65-bc46-4803-a362-96f529c7c2d2",
   "metadata": {},
   "outputs": [
    {
     "data": {
      "text/html": [
       "<div>\n",
       "<style scoped>\n",
       "    .dataframe tbody tr th:only-of-type {\n",
       "        vertical-align: middle;\n",
       "    }\n",
       "\n",
       "    .dataframe tbody tr th {\n",
       "        vertical-align: top;\n",
       "    }\n",
       "\n",
       "    .dataframe thead th {\n",
       "        text-align: right;\n",
       "    }\n",
       "</style>\n",
       "<table border=\"1\" class=\"dataframe\">\n",
       "  <thead>\n",
       "    <tr style=\"text-align: right;\">\n",
       "      <th></th>\n",
       "      <th>Unnamed: 0</th>\n",
       "      <th>Unnamed: 0.1</th>\n",
       "      <th>id</th>\n",
       "      <th>region</th>\n",
       "      <th>price</th>\n",
       "      <th>year</th>\n",
       "      <th>manufacturer</th>\n",
       "      <th>model</th>\n",
       "      <th>condition</th>\n",
       "      <th>cylinders</th>\n",
       "      <th>fuel</th>\n",
       "      <th>odometer</th>\n",
       "      <th>title_status</th>\n",
       "      <th>transmission</th>\n",
       "      <th>drive</th>\n",
       "      <th>size</th>\n",
       "      <th>type</th>\n",
       "      <th>paint_color</th>\n",
       "      <th>state</th>\n",
       "    </tr>\n",
       "  </thead>\n",
       "  <tbody>\n",
       "    <tr>\n",
       "      <th>0</th>\n",
       "      <td>0</td>\n",
       "      <td>27</td>\n",
       "      <td>7316814884</td>\n",
       "      <td>16</td>\n",
       "      <td>33590</td>\n",
       "      <td>2014.0</td>\n",
       "      <td>14</td>\n",
       "      <td>13873</td>\n",
       "      <td>2</td>\n",
       "      <td>8</td>\n",
       "      <td>2</td>\n",
       "      <td>57923.0</td>\n",
       "      <td>0</td>\n",
       "      <td>2</td>\n",
       "      <td>0</td>\n",
       "      <td>0</td>\n",
       "      <td>8</td>\n",
       "      <td>11</td>\n",
       "      <td>1</td>\n",
       "    </tr>\n",
       "    <tr>\n",
       "      <th>1</th>\n",
       "      <td>1</td>\n",
       "      <td>28</td>\n",
       "      <td>7316814758</td>\n",
       "      <td>16</td>\n",
       "      <td>22590</td>\n",
       "      <td>2010.0</td>\n",
       "      <td>7</td>\n",
       "      <td>14140</td>\n",
       "      <td>2</td>\n",
       "      <td>8</td>\n",
       "      <td>2</td>\n",
       "      <td>71229.0</td>\n",
       "      <td>0</td>\n",
       "      <td>2</td>\n",
       "      <td>0</td>\n",
       "      <td>0</td>\n",
       "      <td>8</td>\n",
       "      <td>1</td>\n",
       "      <td>1</td>\n",
       "    </tr>\n",
       "    <tr>\n",
       "      <th>2</th>\n",
       "      <td>2</td>\n",
       "      <td>29</td>\n",
       "      <td>7316814989</td>\n",
       "      <td>16</td>\n",
       "      <td>39590</td>\n",
       "      <td>2020.0</td>\n",
       "      <td>7</td>\n",
       "      <td>14163</td>\n",
       "      <td>2</td>\n",
       "      <td>8</td>\n",
       "      <td>2</td>\n",
       "      <td>19160.0</td>\n",
       "      <td>0</td>\n",
       "      <td>2</td>\n",
       "      <td>0</td>\n",
       "      <td>0</td>\n",
       "      <td>8</td>\n",
       "      <td>9</td>\n",
       "      <td>1</td>\n",
       "    </tr>\n",
       "    <tr>\n",
       "      <th>3</th>\n",
       "      <td>3</td>\n",
       "      <td>30</td>\n",
       "      <td>7316743432</td>\n",
       "      <td>16</td>\n",
       "      <td>30990</td>\n",
       "      <td>2017.0</td>\n",
       "      <td>38</td>\n",
       "      <td>16312</td>\n",
       "      <td>2</td>\n",
       "      <td>8</td>\n",
       "      <td>2</td>\n",
       "      <td>41124.0</td>\n",
       "      <td>0</td>\n",
       "      <td>2</td>\n",
       "      <td>0</td>\n",
       "      <td>0</td>\n",
       "      <td>8</td>\n",
       "      <td>9</td>\n",
       "      <td>1</td>\n",
       "    </tr>\n",
       "    <tr>\n",
       "      <th>4</th>\n",
       "      <td>4</td>\n",
       "      <td>31</td>\n",
       "      <td>7316356412</td>\n",
       "      <td>16</td>\n",
       "      <td>15000</td>\n",
       "      <td>2013.0</td>\n",
       "      <td>13</td>\n",
       "      <td>7107</td>\n",
       "      <td>0</td>\n",
       "      <td>6</td>\n",
       "      <td>2</td>\n",
       "      <td>128000.0</td>\n",
       "      <td>0</td>\n",
       "      <td>0</td>\n",
       "      <td>1</td>\n",
       "      <td>1</td>\n",
       "      <td>10</td>\n",
       "      <td>0</td>\n",
       "      <td>1</td>\n",
       "    </tr>\n",
       "  </tbody>\n",
       "</table>\n",
       "</div>"
      ],
      "text/plain": [
       "   Unnamed: 0  Unnamed: 0.1          id  region  price    year  manufacturer  \\\n",
       "0           0            27  7316814884      16  33590  2014.0            14   \n",
       "1           1            28  7316814758      16  22590  2010.0             7   \n",
       "2           2            29  7316814989      16  39590  2020.0             7   \n",
       "3           3            30  7316743432      16  30990  2017.0            38   \n",
       "4           4            31  7316356412      16  15000  2013.0            13   \n",
       "\n",
       "   model  condition  cylinders  fuel  odometer  title_status  transmission  \\\n",
       "0  13873          2          8     2   57923.0             0             2   \n",
       "1  14140          2          8     2   71229.0             0             2   \n",
       "2  14163          2          8     2   19160.0             0             2   \n",
       "3  16312          2          8     2   41124.0             0             2   \n",
       "4   7107          0          6     2  128000.0             0             0   \n",
       "\n",
       "   drive  size  type  paint_color  state  \n",
       "0      0     0     8           11      1  \n",
       "1      0     0     8            1      1  \n",
       "2      0     0     8            9      1  \n",
       "3      0     0     8            9      1  \n",
       "4      1     1    10            0      1  "
      ]
     },
     "execution_count": 5,
     "metadata": {},
     "output_type": "execute_result"
    }
   ],
   "source": [
    "vehicles = pd.read_csv(\"s3://ml-ai-bucket/vehicles_feature_engineered.csv\")\n",
    "vehicles.head()"
   ]
  },
  {
   "cell_type": "code",
   "execution_count": 6,
   "id": "cda522c8-d0dd-42ee-8078-12e28eb1c863",
   "metadata": {},
   "outputs": [
    {
     "name": "stdout",
     "output_type": "stream",
     "text": [
      "(187474, 8) (187474,) (92339, 8) (92339,)\n"
     ]
    }
   ],
   "source": [
    "features_to_add = [\"year\", \"manufacturer\", \"model\", \"condition\", \"cylinders\", \"fuel\", \"odometer\", \"title_status\"]\n",
    "X = pd.DataFrame(vehicles[features_to_add])\n",
    "y = vehicles[\"price\"]\n",
    "X_train, X_test,y_train, y_test = train_test_split(X, y, test_size=0.33)\n",
    "print(X_train.shape, y_train.shape, X_test.shape, y_test.shape)"
   ]
  },
  {
   "cell_type": "code",
   "execution_count": 7,
   "id": "a5dcd80b-eca5-4ada-96c8-88a0d9423007",
   "metadata": {},
   "outputs": [],
   "source": [
    "model_results = {}"
   ]
  },
  {
   "cell_type": "markdown",
   "id": "779df73c-a41e-441e-b968-a217ca3aed67",
   "metadata": {},
   "source": [
    "# Linear Regression Model"
   ]
  },
  {
   "cell_type": "code",
   "execution_count": 8,
   "id": "9e499ba1-6e89-4765-b8a0-e269916e0b03",
   "metadata": {},
   "outputs": [],
   "source": [
    "#Linear Regression Model \n",
    "linear_reg = LinearRegression()\n",
    "linear_reg.fit(X_train, y_train)\n",
    "y_pred = linear_reg.predict(X_test)\n"
   ]
  },
  {
   "cell_type": "code",
   "execution_count": 9,
   "id": "4dc159a3-7be9-49a5-93fc-90a07c11417f",
   "metadata": {},
   "outputs": [
    {
     "name": "stdout",
     "output_type": "stream",
     "text": [
      "83159242.0738999\n",
      "7206.680617863328\n"
     ]
    }
   ],
   "source": [
    "mse_test = mean_squared_error(y_test, y_pred)\n",
    "mae_test = mean_absolute_error(y_test, y_pred)\n",
    "model_results = {\"Linear Regression MSE\": mse_test}\n",
    "print(mse_test)\n",
    "print(mae_test)"
   ]
  },
  {
   "cell_type": "code",
   "execution_count": 10,
   "id": "26ac89dd-d646-4a37-bc87-205f906bc9c0",
   "metadata": {},
   "outputs": [
    {
     "name": "stdout",
     "output_type": "stream",
     "text": [
      "year             380.438909\n",
      "manufacturer     -41.407337\n",
      "model              0.108489\n",
      "condition        762.254776\n",
      "cylinders        354.634571\n",
      "fuel           -2876.286355\n",
      "odometer          -0.100873\n",
      "title_status   -1735.663089\n",
      "dtype: float64\n"
     ]
    },
    {
     "data": {
      "image/png": "[encoded data removed]",
      "text/plain": [
       "<Figure size 432x288 with 1 Axes>"
      ]
     },
     "metadata": {
      "needs_background": "light"
     },
     "output_type": "display_data"
    }
   ],
   "source": [
    "linear_coeffs = pd.Series(linear_reg.coef_, index=X_train.columns)\n",
    "linear_coeffs.plot(kind='bar')\n",
    "plt.title(\"Important features impacting car price\")\n",
    "print(linear_coeffs)"
   ]
  },
  {
   "cell_type": "markdown",
   "id": "f7a0c97b-c686-4c53-833d-e4aefe92ffd7",
   "metadata": {},
   "source": [
    "# Selecting Features for model performance\n"
   ]
  },
  {
   "cell_type": "code",
   "execution_count": 11,
   "id": "cc27e5c1-734a-4479-9ef4-a963c15dbc77",
   "metadata": {},
   "outputs": [
    {
     "name": "stdout",
     "output_type": "stream",
     "text": [
      "Fitting estimator with 8 features.\n",
      "Fitting estimator with 7 features.\n"
     ]
    },
    {
     "data": {
      "text/plain": [
       "Index(['year', 'manufacturer', 'condition', 'cylinders', 'fuel',\n",
       "       'title_status'],\n",
       "      dtype='object')"
      ]
     },
     "execution_count": 11,
     "metadata": {},
     "output_type": "execute_result"
    }
   ],
   "source": [
    "rfe = RFE(estimator=LinearRegression(), n_features_to_select=6, verbose=1)\n",
    "rfe.fit(X_train, y_train)\n",
    "X.columns[rfe.support_]"
   ]
  },
  {
   "cell_type": "code",
   "execution_count": 12,
   "id": "fc56f6b0-50ad-4620-9ada-cc930df048cb",
   "metadata": {},
   "outputs": [
    {
     "name": "stdout",
     "output_type": "stream",
     "text": [
      "(187474, 8) (187474,) (92339, 8) (92339,)\n"
     ]
    }
   ],
   "source": [
    "# Removing the coeff with less value\n",
    "features_to_add = [\"year\",\"condition\", \"manufacturer\",\"fuel\", \"cylinders\",\"title_status\"]\n",
    "X1 = pd.DataFrame(vehicles[features_to_add])\n",
    "y1 = vehicles[\"price\"]\n",
    "X1_train, X1_test,y1_train, y1_test = train_test_split(X, y, test_size=0.33)\n",
    "print(X1_train.shape, y1_train.shape, X1_test.shape, y1_test.shape)"
   ]
  },
  {
   "cell_type": "code",
   "execution_count": 13,
   "id": "7daf2c4e-1ed5-4a4d-9aab-5b1d3abc462d",
   "metadata": {},
   "outputs": [],
   "source": [
    "#Linear Regression Model \n",
    "linear_reg = LinearRegression()\n",
    "linear_reg.fit(X1_train, y1_train)\n",
    "y_pred_x1 = linear_reg.predict(X1_test)"
   ]
  },
  {
   "cell_type": "code",
   "execution_count": 14,
   "id": "a249d0b9-5ac3-450b-bbe0-39619e6bc8cc",
   "metadata": {},
   "outputs": [
    {
     "name": "stdout",
     "output_type": "stream",
     "text": [
      "83298421.50027786\n",
      "7207.934909240748\n"
     ]
    }
   ],
   "source": [
    "mse_test = mean_squared_error(y1_test, y_pred_x1)\n",
    "mae_test = mean_absolute_error(y1_test, y_pred_x1)\n",
    "model_results = {\"Linear Regression MSE with removing lower coeffs\": mse_test}\n",
    "print(mse_test)\n",
    "print(mae_test)"
   ]
  },
  {
   "cell_type": "markdown",
   "id": "9c611d46-a5c7-4082-98ec-5ae30e4b6603",
   "metadata": {},
   "source": [
    "# Ridge Regression Model"
   ]
  },
  {
   "cell_type": "code",
   "execution_count": 15,
   "id": "3ace3def-7edf-4955-ba97-945051a37b97",
   "metadata": {},
   "outputs": [],
   "source": [
    "ridge_reg = Ridge(alpha = 10.0)\n",
    "ridge_reg.fit(X_train, y_train)\n",
    "y_pred_ridge = ridge_reg.predict(X_test)"
   ]
  },
  {
   "cell_type": "code",
   "execution_count": 16,
   "id": "ce5a262b-578b-41e8-81fb-22f084d44faf",
   "metadata": {},
   "outputs": [
    {
     "name": "stdout",
     "output_type": "stream",
     "text": [
      "83159215.27182403\n"
     ]
    }
   ],
   "source": [
    "ridge_mse_test = mean_squared_error(y_test, y_pred_ridge)\n",
    "model_results = {\"Ridge Regression\": ridge_mse_test}\n",
    "print(ridge_mse_test)"
   ]
  },
  {
   "cell_type": "code",
   "execution_count": 14,
   "id": "e9d9b42b-c6d5-4e41-86ed-432e34beb936",
   "metadata": {},
   "outputs": [
    {
     "name": "stdout",
     "output_type": "stream",
     "text": [
      "year             376.804750\n",
      "manufacturer      40.739162\n",
      "model              0.103008\n",
      "condition        765.911736\n",
      "cylinders        355.462974\n",
      "fuel            2821.226311\n",
      "odometer           0.101310\n",
      "title_status    1709.211007\n",
      "dtype: float64\n"
     ]
    },
    {
     "data": {
      "image/png": "[encoded data removed]",
      "text/plain": [
       "<Figure size 432x288 with 1 Axes>"
      ]
     },
     "metadata": {
      "needs_background": "light"
     },
     "output_type": "display_data"
    }
   ],
   "source": [
    "ridge_coeffs = pd.Series(ridge_reg.coef_, index=X_train.columns)\n",
    "ridge_coeffs.plot(kind='bar')\n",
    "plt.title(\"Ridge Regression coefficients\")\n",
    "print(abs(ridge_coeffs))"
   ]
  },
  {
   "cell_type": "markdown",
   "id": "54cddb6d-8fd3-4e23-8238-b283cfcd57b4",
   "metadata": {},
   "source": [
    "# Lasso Regression"
   ]
  },
  {
   "cell_type": "code",
   "execution_count": 23,
   "id": "3dd85832-c296-41fb-957a-83581baf4e9e",
   "metadata": {},
   "outputs": [],
   "source": [
    "#LAsso Regression Model \n",
    "lasso_reg = Lasso()\n",
    "lasso_reg.fit(X_train, y_train)\n",
    "y_pred_lasso = lasso_reg.predict(X_test)"
   ]
  },
  {
   "cell_type": "code",
   "execution_count": 28,
   "id": "1b3c2ea7-3ff6-40cd-8f53-775302409420",
   "metadata": {},
   "outputs": [
    {
     "name": "stdout",
     "output_type": "stream",
     "text": [
      "83159076.68200953\n",
      "7206.674233794362\n"
     ]
    }
   ],
   "source": [
    "lasso_mse_test = mean_squared_error(y_test, y_pred_lasso)\n",
    "lasso_mae_test = mean_absolute_error(y_test, y_pred_lasso)\n",
    "model_results = {\"Lasso Regression MSE\": mse_test}\n",
    "print(lasso_mse_test)\n",
    "print(lasso_mae_test)"
   ]
  },
  {
   "cell_type": "code",
   "execution_count": 29,
   "id": "0fd804b3-faeb-49e0-8a86-9c8cd48dd0f5",
   "metadata": {},
   "outputs": [
    {
     "name": "stdout",
     "output_type": "stream",
     "text": [
      "year             380.406234\n",
      "manufacturer      41.400454\n",
      "model              0.108476\n",
      "condition        760.799608\n",
      "cylinders        354.577338\n",
      "fuel            2874.070027\n",
      "odometer           0.100872\n",
      "title_status    1733.930882\n",
      "dtype: float64\n"
     ]
    },
    {
     "data": {
      "image/png": "[encoded data removed]",
      "text/plain": [
       "<Figure size 432x288 with 1 Axes>"
      ]
     },
     "metadata": {
      "needs_background": "light"
     },
     "output_type": "display_data"
    }
   ],
   "source": [
    "lasso_coeffs = pd.Series(lasso_reg.coef_, index=X_train.columns)\n",
    "lasso_coeffs.plot(kind='bar')\n",
    "plt.title(\"Lasso Regression coefficients\")\n",
    "print(abs(lasso_coeffs))"
   ]
  },
  {
   "cell_type": "markdown",
   "id": "8b21d9bc-d968-4f4b-96a4-4b13300d9335",
   "metadata": {},
   "source": [
    "## RandomForest"
   ]
  },
  {
   "cell_type": "code",
   "execution_count": null,
   "id": "3aa9c0c3-5d30-421d-b10f-081799933b25",
   "metadata": {},
   "outputs": [],
   "source": [
    "forest = RandomForestRegressor(n_estimators=500, random_state=21, oob_score=True)\n",
    "forest.fit(X_train, y_train)\n",
    "y_pred_forest = forest.predict(X_test)"
   ]
  },
  {
   "cell_type": "code",
   "execution_count": null,
   "id": "8abb94f3-8b1d-4cd0-bff3-8f8fe03dd474",
   "metadata": {},
   "outputs": [],
   "source": [
    "forest_mse_test = mean_squared_error(y_test, y_pred_forest)\n",
    "model_results = {\"Forest Regressor MSE \": forest_mse_test}\n",
    "print(forest_mse_test)"
   ]
  },
  {
   "cell_type": "code",
   "execution_count": null,
   "id": "5c91cfda-ece8-4b37-85e4-99b6af343a81",
   "metadata": {},
   "outputs": [],
   "source": [
    "importances = forest.feature_importances_\n",
    "forest_importances = pd.Series(importances, index=feature_names )"
   ]
  }
 ],
 "metadata": {
  "kernelspec": {
   "display_name": "Python 3",
   "language": "python",
   "name": "python3"
  },
  "language_info": {
   "codemirror_mode": {
    "name": "ipython",
    "version": 3
   },
   "file_extension": ".py",
   "mimetype": "text/x-python",
   "name": "python",
   "nbconvert_exporter": "python",
   "pygments_lexer": "ipython3",
   "version": "3.8.10"
  }
 },
 "nbformat": 4,
 "nbformat_minor": 5
}
